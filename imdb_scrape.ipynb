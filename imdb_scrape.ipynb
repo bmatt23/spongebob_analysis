{
 "cells": [
  {
   "cell_type": "code",
   "execution_count": 1,
   "metadata": {},
   "outputs": [],
   "source": [
    "import pandas as pd\n",
    "import numpy as np\n",
    "from bs4 import BeautifulSoup\n",
    "import requests\n",
    "from tqdm import tqdm\n",
    "import time\n",
    "import re"
   ]
  },
  {
   "cell_type": "code",
   "execution_count": 2,
   "metadata": {},
   "outputs": [],
   "source": [
    "episode_list = []\n",
    "ratings_list = []\n",
    "for i in range(6):\n",
    "    time.sleep(1)\n",
    "    url = 'https://www.imdb.com/search/title/?series=tt0206512&sort=release_date,asc&start={}&ref_=adv_nxt'.format(50*i + 1)\n",
    "    \n",
    "\n",
    "    page = requests.get(url)\n",
    "\n",
    "    soup = BeautifulSoup(page.content, 'html.parser')\n",
    "\n",
    "    # get a list of descriptions\n",
    "    ratings = soup.find_all(\"div\",{\"class\": \"col-imdb-rating\"})\n",
    "\n",
    "    #add ratings to list\n",
    "    if i < 5:\n",
    "        for j in range(50):\n",
    "            ratings_list.append(float(re.search(\n",
    "            'data-value=\"(.*)\" name',\n",
    "            str(soup.find_all(\"div\",{\"class\": \"ratings-bar\"})[j])    \n",
    "            ).group(1)))\n",
    "            episodes = soup.select(\"div.lister-item small + a[href]\")\n",
    "        for episode in episodes:\n",
    "            episode_list.append(episode.text)\n",
    "\n",
    "\n",
    "    elif i == 5:\n",
    "        for j in range(15):\n",
    "            ratings_list.append(float(re.search(\n",
    "            'data-value=\"(.*)\" name',\n",
    "            str(soup.find_all(\"div\",{\"class\": \"ratings-bar\"})[j])    \n",
    "            ).group(1)))\n",
    "\n",
    "        episodes = soup.select(\"div.lister-item small + a[href]\")\n",
    "        for episode in episodes[:15]:\n",
    "            episode_list.append(episode.text)\n",
    "\n",
    "\n",
    "    \n",
    "    "
   ]
  },
  {
   "cell_type": "code",
   "execution_count": 9,
   "metadata": {},
   "outputs": [],
   "source": [
    "# generate a list of episodes per 30 minute showing \n",
    "episodes_per_showing = [x.count('/') + 1 for x in episode_list]\n",
    "\n",
    "# now use that to separate the 30-minute segments into individual ratings\n",
    "full_ratings = []\n",
    "for i in range(len(episodes_per_showing)):\n",
    "    full_ratings.append([ratings_list[i]]*episodes_per_showing[i])\n",
    "full_ratings = [item for sublist in full_ratings for item in sublist]\n",
    "\n",
    "# get all episodes in a list\n",
    "full_episodes = [\n",
    "    item for sublist in [x.split('/') for x in episode_list] for item in sublist\n",
    "    ]\n"
   ]
  },
  {
   "cell_type": "code",
   "execution_count": 10,
   "metadata": {},
   "outputs": [
    {
     "data": {
      "text/html": [
       "<div>\n",
       "<style scoped>\n",
       "    .dataframe tbody tr th:only-of-type {\n",
       "        vertical-align: middle;\n",
       "    }\n",
       "\n",
       "    .dataframe tbody tr th {\n",
       "        vertical-align: top;\n",
       "    }\n",
       "\n",
       "    .dataframe thead th {\n",
       "        text-align: right;\n",
       "    }\n",
       "</style>\n",
       "<table border=\"1\" class=\"dataframe\">\n",
       "  <thead>\n",
       "    <tr style=\"text-align: right;\">\n",
       "      <th></th>\n",
       "      <th>Title</th>\n",
       "      <th>Rating</th>\n",
       "    </tr>\n",
       "    <tr>\n",
       "      <th>Episode #</th>\n",
       "      <th></th>\n",
       "      <th></th>\n",
       "    </tr>\n",
       "  </thead>\n",
       "  <tbody>\n",
       "    <tr>\n",
       "      <th>0</th>\n",
       "      <td>Help Wanted</td>\n",
       "      <td>8.7</td>\n",
       "    </tr>\n",
       "    <tr>\n",
       "      <th>1</th>\n",
       "      <td>Reef Blower</td>\n",
       "      <td>8.7</td>\n",
       "    </tr>\n",
       "    <tr>\n",
       "      <th>2</th>\n",
       "      <td>Tea at the Treedome</td>\n",
       "      <td>8.7</td>\n",
       "    </tr>\n",
       "    <tr>\n",
       "      <th>3</th>\n",
       "      <td>BubbleStand</td>\n",
       "      <td>8.5</td>\n",
       "    </tr>\n",
       "    <tr>\n",
       "      <th>4</th>\n",
       "      <td>Ripped Pants</td>\n",
       "      <td>8.5</td>\n",
       "    </tr>\n",
       "    <tr>\n",
       "      <th>...</th>\n",
       "      <td>...</td>\n",
       "      <td>...</td>\n",
       "    </tr>\n",
       "    <tr>\n",
       "      <th>500</th>\n",
       "      <td>Biddy Sitting</td>\n",
       "      <td>7.1</td>\n",
       "    </tr>\n",
       "    <tr>\n",
       "      <th>501</th>\n",
       "      <td>Lighthouse Louie</td>\n",
       "      <td>6.8</td>\n",
       "    </tr>\n",
       "    <tr>\n",
       "      <th>502</th>\n",
       "      <td>Hiccup Plague</td>\n",
       "      <td>6.8</td>\n",
       "    </tr>\n",
       "    <tr>\n",
       "      <th>503</th>\n",
       "      <td>Swamp Mates</td>\n",
       "      <td>6.9</td>\n",
       "    </tr>\n",
       "    <tr>\n",
       "      <th>504</th>\n",
       "      <td>One Trick Sponge</td>\n",
       "      <td>6.9</td>\n",
       "    </tr>\n",
       "  </tbody>\n",
       "</table>\n",
       "<p>505 rows × 2 columns</p>\n",
       "</div>"
      ],
      "text/plain": [
       "                         Title  Rating\n",
       "Episode #                             \n",
       "0                  Help Wanted     8.7\n",
       "1                  Reef Blower     8.7\n",
       "2          Tea at the Treedome     8.7\n",
       "3                  BubbleStand     8.5\n",
       "4                 Ripped Pants     8.5\n",
       "...                        ...     ...\n",
       "500              Biddy Sitting     7.1\n",
       "501           Lighthouse Louie     6.8\n",
       "502              Hiccup Plague     6.8\n",
       "503                Swamp Mates     6.9\n",
       "504           One Trick Sponge     6.9\n",
       "\n",
       "[505 rows x 2 columns]"
      ]
     },
     "execution_count": 10,
     "metadata": {},
     "output_type": "execute_result"
    }
   ],
   "source": [
    "sponge_df = pd.DataFrame({\n",
    "    \"Title\":full_episodes,\n",
    "    \"Rating\": full_ratings}\n",
    "    )\n",
    "sponge_df.index.name='Episode #'\n",
    "sponge_df"
   ]
  },
  {
   "cell_type": "code",
   "execution_count": 224,
   "metadata": {},
   "outputs": [],
   "source": [
    "import seaborn as sns\n",
    "import matplotlib.pyplot as plt"
   ]
  },
  {
   "cell_type": "code",
   "execution_count": 225,
   "metadata": {},
   "outputs": [
    {
     "data": {
      "image/png": "[encoded data removed]",
      "text/plain": [
       "<Figure size 640x480 with 1 Axes>"
      ]
     },
     "metadata": {},
     "output_type": "display_data"
    }
   ],
   "source": [
    "sns.scatterplot(\n",
    "    data = sponge_df,\n",
    "    x = 'Episode #',\n",
    "    y = 'Rating')\n",
    "plt.title('Rating by Episode #')\n",
    "plt.show()\n"
   ]
  },
  {
   "cell_type": "code",
   "execution_count": 12,
   "metadata": {},
   "outputs": [],
   "source": [
    "# export to csv file to use in merger notebook\n",
    "sponge_df.to_csv('sponge_df.csv')"
   ]
  }
 ],
 "metadata": {
  "kernelspec": {
   "display_name": "Python 3",
   "language": "python",
   "name": "python3"
  },
  "language_info": {
   "codemirror_mode": {
    "name": "ipython",
    "version": 3
   },
   "file_extension": ".py",
   "mimetype": "text/x-python",
   "name": "python",
   "nbconvert_exporter": "python",
   "pygments_lexer": "ipython3",
   "version": "3.9.0 (default, Dec  3 2020, 16:09:02) \n[Clang 12.0.0 (clang-1200.0.32.27)]"
  },
  "orig_nbformat": 4,
  "vscode": {
   "interpreter": {
    "hash": "aee8b7b246df8f9039afb4144a1f6fd8d2ca17a180786b69acc140d282b71a49"
   }
  }
 },
 "nbformat": 4,
 "nbformat_minor": 2
}
