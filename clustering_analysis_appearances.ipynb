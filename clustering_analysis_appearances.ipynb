{
 "cells": [
  {
   "cell_type": "code",
   "execution_count": 30,
   "metadata": {},
   "outputs": [],
   "source": [
    "import pandas as pd\n",
    "import numpy as np\n",
    "from sklearn.pipeline import Pipeline\n",
    "from sklearn.preprocessing import StandardScaler\n",
    "from sklearn.cluster import AgglomerativeClustering\n",
    "from sklearn.decomposition import PCA\n",
    "from sklearn.preprocessing import scale\n",
    "import seaborn as sns\n",
    "import matplotlib.pyplot as plt\n",
    "import scipy.stats as stats\n",
    "import warnings\n",
    "warnings.filterwarnings('ignore')\n"
   ]
  },
  {
   "attachments": {},
   "cell_type": "markdown",
   "metadata": {},
   "source": [
    "Let's get our appearance data from before."
   ]
  },
  {
   "cell_type": "code",
   "execution_count": 11,
   "metadata": {},
   "outputs": [],
   "source": [
    "\n",
    "apps = pd.read_csv('sponge_app_df.csv').drop(columns = ['Unnamed: 0'])"
   ]
  },
  {
   "attachments": {},
   "cell_type": "markdown",
   "metadata": {},
   "source": [
    "Now, we're going to perform some clustering on the appearances to see if we can generate any interesting/useful insights. Let's first see how many principal components is ideal here. We like to look for an inflection point in the scree plot to determine this."
   ]
  },
  {
   "cell_type": "code",
   "execution_count": 21,
   "metadata": {},
   "outputs": [
    {
     "data": {
      "text/plain": [
       "Text(0, 0.5, 'Variance explained')"
      ]
     },
     "execution_count": 21,
     "metadata": {},
     "output_type": "execute_result"
    },
    {
     "data": {
      "image/png": "[encoded data removed]",
      "text/plain": [
       "<Figure size 640x480 with 1 Axes>"
      ]
     },
     "metadata": {},
     "output_type": "display_data"
    }
   ],
   "source": [
    "pca = PCA(n_components=6)\n",
    "X_pca = pca.fit_transform(scale(X))\n",
    "sns.lineplot(pca.explained_variance_ratio_)\n",
    "plt.title('Scree Plot for PCA')\n",
    "plt.xlabel('# of PCA Components')\n",
    "plt.ylabel('Variance explained')"
   ]
  },
  {
   "attachments": {},
   "cell_type": "markdown",
   "metadata": {},
   "source": [
    "The inflection occurs at 2. We'd need double the components from there to really gain any new information, so we will settle on two principal components. Now let's get to clustering!"
   ]
  },
  {
   "cell_type": "code",
   "execution_count": 22,
   "metadata": {},
   "outputs": [],
   "source": [
    "# create X \n",
    "X = apps.drop(columns = ['Episode #', 'Title', 'Rating', 'Script','allchars'])\n",
    "\n",
    "# pipe the data\n",
    "pipe = Pipeline([\n",
    "   # ('fillwith1', SimpleImputer(strategy=\"constant\", fill_value=1)),\n",
    "    ('scale',StandardScaler()),\n",
    "    ('pca', PCA(n_components=2,random_state=42)),\n",
    "    ('cluster', AgglomerativeClustering(n_clusters=2) ),\n",
    "])\n",
    "\n",
    "# create predictions\n",
    "y_pred = pipe.fit_predict(X)"
   ]
  },
  {
   "attachments": {},
   "cell_type": "markdown",
   "metadata": {},
   "source": [
    "Now, we can combine it together to see how each cluster performs."
   ]
  },
  {
   "cell_type": "code",
   "execution_count": 23,
   "metadata": {},
   "outputs": [
    {
     "data": {
      "text/html": [
       "<div>\n",
       "<style scoped>\n",
       "    .dataframe tbody tr th:only-of-type {\n",
       "        vertical-align: middle;\n",
       "    }\n",
       "\n",
       "    .dataframe tbody tr th {\n",
       "        vertical-align: top;\n",
       "    }\n",
       "\n",
       "    .dataframe thead th {\n",
       "        text-align: right;\n",
       "    }\n",
       "</style>\n",
       "<table border=\"1\" class=\"dataframe\">\n",
       "  <thead>\n",
       "    <tr style=\"text-align: right;\">\n",
       "      <th></th>\n",
       "      <th>Episode #</th>\n",
       "      <th>Rating</th>\n",
       "      <th>SpongeBob</th>\n",
       "      <th>Mr. Krabs</th>\n",
       "      <th>Squidward</th>\n",
       "      <th>Patrick</th>\n",
       "      <th>French Narrator</th>\n",
       "      <th>Gary</th>\n",
       "      <th>Sandy</th>\n",
       "      <th>All</th>\n",
       "      <th>...</th>\n",
       "      <th>Narrator</th>\n",
       "      <th>Harold</th>\n",
       "      <th>Plankton</th>\n",
       "      <th>Karen</th>\n",
       "      <th>SpongeBob and Patrick</th>\n",
       "      <th>Mrs. Puff</th>\n",
       "      <th>Fred</th>\n",
       "      <th>Pearl</th>\n",
       "      <th>Both</th>\n",
       "      <th>Nat</th>\n",
       "    </tr>\n",
       "    <tr>\n",
       "      <th>pred</th>\n",
       "      <th></th>\n",
       "      <th></th>\n",
       "      <th></th>\n",
       "      <th></th>\n",
       "      <th></th>\n",
       "      <th></th>\n",
       "      <th></th>\n",
       "      <th></th>\n",
       "      <th></th>\n",
       "      <th></th>\n",
       "      <th></th>\n",
       "      <th></th>\n",
       "      <th></th>\n",
       "      <th></th>\n",
       "      <th></th>\n",
       "      <th></th>\n",
       "      <th></th>\n",
       "      <th></th>\n",
       "      <th></th>\n",
       "      <th></th>\n",
       "      <th></th>\n",
       "    </tr>\n",
       "  </thead>\n",
       "  <tbody>\n",
       "    <tr>\n",
       "      <th>0</th>\n",
       "      <td>225.020958</td>\n",
       "      <td>7.279940</td>\n",
       "      <td>1.000000</td>\n",
       "      <td>0.619760</td>\n",
       "      <td>0.757485</td>\n",
       "      <td>0.745509</td>\n",
       "      <td>0.095808</td>\n",
       "      <td>0.302395</td>\n",
       "      <td>0.266467</td>\n",
       "      <td>0.095808</td>\n",
       "      <td>...</td>\n",
       "      <td>0.251497</td>\n",
       "      <td>0.188623</td>\n",
       "      <td>0.125749</td>\n",
       "      <td>0.014970</td>\n",
       "      <td>0.266467</td>\n",
       "      <td>0.128743</td>\n",
       "      <td>0.170659</td>\n",
       "      <td>0.095808</td>\n",
       "      <td>0.107784</td>\n",
       "      <td>0.110778</td>\n",
       "    </tr>\n",
       "    <tr>\n",
       "      <th>1</th>\n",
       "      <td>306.120690</td>\n",
       "      <td>7.151724</td>\n",
       "      <td>0.948276</td>\n",
       "      <td>0.896552</td>\n",
       "      <td>0.706897</td>\n",
       "      <td>0.258621</td>\n",
       "      <td>0.189655</td>\n",
       "      <td>0.120690</td>\n",
       "      <td>0.120690</td>\n",
       "      <td>0.051724</td>\n",
       "      <td>...</td>\n",
       "      <td>0.155172</td>\n",
       "      <td>0.068966</td>\n",
       "      <td>0.948276</td>\n",
       "      <td>0.862069</td>\n",
       "      <td>0.017241</td>\n",
       "      <td>0.068966</td>\n",
       "      <td>0.120690</td>\n",
       "      <td>0.103448</td>\n",
       "      <td>0.034483</td>\n",
       "      <td>0.120690</td>\n",
       "    </tr>\n",
       "  </tbody>\n",
       "</table>\n",
       "<p>2 rows × 21 columns</p>\n",
       "</div>"
      ],
      "text/plain": [
       "       Episode #    Rating  SpongeBob  Mr. Krabs  Squidward   Patrick  \\\n",
       "pred                                                                    \n",
       "0     225.020958  7.279940   1.000000   0.619760   0.757485  0.745509   \n",
       "1     306.120690  7.151724   0.948276   0.896552   0.706897  0.258621   \n",
       "\n",
       "      French Narrator      Gary     Sandy       All  ...  Narrator    Harold  \\\n",
       "pred                                                 ...                       \n",
       "0            0.095808  0.302395  0.266467  0.095808  ...  0.251497  0.188623   \n",
       "1            0.189655  0.120690  0.120690  0.051724  ...  0.155172  0.068966   \n",
       "\n",
       "      Plankton     Karen  SpongeBob and Patrick  Mrs. Puff      Fred  \\\n",
       "pred                                                                   \n",
       "0     0.125749  0.014970               0.266467   0.128743  0.170659   \n",
       "1     0.948276  0.862069               0.017241   0.068966  0.120690   \n",
       "\n",
       "         Pearl      Both       Nat  \n",
       "pred                                \n",
       "0     0.095808  0.107784  0.110778  \n",
       "1     0.103448  0.034483  0.120690  \n",
       "\n",
       "[2 rows x 21 columns]"
      ]
     },
     "metadata": {},
     "output_type": "display_data"
    },
    {
     "data": {
      "text/html": [
       "<div>\n",
       "<style scoped>\n",
       "    .dataframe tbody tr th:only-of-type {\n",
       "        vertical-align: middle;\n",
       "    }\n",
       "\n",
       "    .dataframe tbody tr th {\n",
       "        vertical-align: top;\n",
       "    }\n",
       "\n",
       "    .dataframe thead th {\n",
       "        text-align: right;\n",
       "    }\n",
       "</style>\n",
       "<table border=\"1\" class=\"dataframe\">\n",
       "  <thead>\n",
       "    <tr style=\"text-align: right;\">\n",
       "      <th></th>\n",
       "      <th>Episode #</th>\n",
       "      <th>Rating</th>\n",
       "      <th>SpongeBob</th>\n",
       "      <th>Mr. Krabs</th>\n",
       "      <th>Squidward</th>\n",
       "      <th>Patrick</th>\n",
       "      <th>French Narrator</th>\n",
       "      <th>Gary</th>\n",
       "      <th>Sandy</th>\n",
       "      <th>All</th>\n",
       "      <th>...</th>\n",
       "      <th>Narrator</th>\n",
       "      <th>Harold</th>\n",
       "      <th>Plankton</th>\n",
       "      <th>Karen</th>\n",
       "      <th>SpongeBob and Patrick</th>\n",
       "      <th>Mrs. Puff</th>\n",
       "      <th>Fred</th>\n",
       "      <th>Pearl</th>\n",
       "      <th>Both</th>\n",
       "      <th>Nat</th>\n",
       "    </tr>\n",
       "    <tr>\n",
       "      <th>pred</th>\n",
       "      <th></th>\n",
       "      <th></th>\n",
       "      <th></th>\n",
       "      <th></th>\n",
       "      <th></th>\n",
       "      <th></th>\n",
       "      <th></th>\n",
       "      <th></th>\n",
       "      <th></th>\n",
       "      <th></th>\n",
       "      <th></th>\n",
       "      <th></th>\n",
       "      <th></th>\n",
       "      <th></th>\n",
       "      <th></th>\n",
       "      <th></th>\n",
       "      <th></th>\n",
       "      <th></th>\n",
       "      <th></th>\n",
       "      <th></th>\n",
       "      <th></th>\n",
       "    </tr>\n",
       "  </thead>\n",
       "  <tbody>\n",
       "    <tr>\n",
       "      <th>0</th>\n",
       "      <td>205.0</td>\n",
       "      <td>7.2</td>\n",
       "      <td>1.0</td>\n",
       "      <td>1.0</td>\n",
       "      <td>1.0</td>\n",
       "      <td>1.0</td>\n",
       "      <td>0.0</td>\n",
       "      <td>0.0</td>\n",
       "      <td>0.0</td>\n",
       "      <td>0.0</td>\n",
       "      <td>...</td>\n",
       "      <td>0.0</td>\n",
       "      <td>0.0</td>\n",
       "      <td>0.0</td>\n",
       "      <td>0.0</td>\n",
       "      <td>0.0</td>\n",
       "      <td>0.0</td>\n",
       "      <td>0.0</td>\n",
       "      <td>0.0</td>\n",
       "      <td>0.0</td>\n",
       "      <td>0.0</td>\n",
       "    </tr>\n",
       "    <tr>\n",
       "      <th>1</th>\n",
       "      <td>332.5</td>\n",
       "      <td>7.1</td>\n",
       "      <td>1.0</td>\n",
       "      <td>1.0</td>\n",
       "      <td>1.0</td>\n",
       "      <td>0.0</td>\n",
       "      <td>0.0</td>\n",
       "      <td>0.0</td>\n",
       "      <td>0.0</td>\n",
       "      <td>0.0</td>\n",
       "      <td>...</td>\n",
       "      <td>0.0</td>\n",
       "      <td>0.0</td>\n",
       "      <td>1.0</td>\n",
       "      <td>1.0</td>\n",
       "      <td>0.0</td>\n",
       "      <td>0.0</td>\n",
       "      <td>0.0</td>\n",
       "      <td>0.0</td>\n",
       "      <td>0.0</td>\n",
       "      <td>0.0</td>\n",
       "    </tr>\n",
       "  </tbody>\n",
       "</table>\n",
       "<p>2 rows × 21 columns</p>\n",
       "</div>"
      ],
      "text/plain": [
       "      Episode #  Rating  SpongeBob  Mr. Krabs  Squidward  Patrick  \\\n",
       "pred                                                                \n",
       "0         205.0     7.2        1.0        1.0        1.0      1.0   \n",
       "1         332.5     7.1        1.0        1.0        1.0      0.0   \n",
       "\n",
       "      French Narrator  Gary  Sandy  All  ...  Narrator  Harold  Plankton  \\\n",
       "pred                                     ...                               \n",
       "0                 0.0   0.0    0.0  0.0  ...       0.0     0.0       0.0   \n",
       "1                 0.0   0.0    0.0  0.0  ...       0.0     0.0       1.0   \n",
       "\n",
       "      Karen  SpongeBob and Patrick  Mrs. Puff  Fred  Pearl  Both  Nat  \n",
       "pred                                                                   \n",
       "0       0.0                    0.0        0.0   0.0    0.0   0.0  0.0  \n",
       "1       1.0                    0.0        0.0   0.0    0.0   0.0  0.0  \n",
       "\n",
       "[2 rows x 21 columns]"
      ]
     },
     "metadata": {},
     "output_type": "display_data"
    }
   ],
   "source": [
    "merged = pd.concat([apps,pd.DataFrame(y_pred, columns = ['pred'])], axis = 1)\n",
    "display(merged.groupby(by = 'pred').mean())\n",
    "display(merged.groupby(by = 'pred').median())"
   ]
  },
  {
   "attachments": {},
   "cell_type": "markdown",
   "metadata": {},
   "source": [
    "Cluster 1 looks to be slightly worse than Cluster 0. Let's take a look at that some more. The averages of these should resemble the percentage of episodes said character appeared in (because it's 1 if appeared, 0 if not), so let's actually take a look at the difference between the two groups to assess our most prominent character differences between the two clusters.\n",
    "\n",
    "NOTE: This is group that performs better - group that performs worse, so note that when looking at these ratios."
   ]
  },
  {
   "cell_type": "code",
   "execution_count": 29,
   "metadata": {},
   "outputs": [
    {
     "data": {
      "text/html": [
       "<div>\n",
       "<style scoped>\n",
       "    .dataframe tbody tr th:only-of-type {\n",
       "        vertical-align: middle;\n",
       "    }\n",
       "\n",
       "    .dataframe tbody tr th {\n",
       "        vertical-align: top;\n",
       "    }\n",
       "\n",
       "    .dataframe thead th {\n",
       "        text-align: right;\n",
       "    }\n",
       "</style>\n",
       "<table border=\"1\" class=\"dataframe\">\n",
       "  <thead>\n",
       "    <tr style=\"text-align: right;\">\n",
       "      <th></th>\n",
       "      <th>Difference in Appearance %</th>\n",
       "    </tr>\n",
       "  </thead>\n",
       "  <tbody>\n",
       "    <tr>\n",
       "      <th>Karen</th>\n",
       "      <td>-0.847</td>\n",
       "    </tr>\n",
       "    <tr>\n",
       "      <th>Plankton</th>\n",
       "      <td>-0.823</td>\n",
       "    </tr>\n",
       "    <tr>\n",
       "      <th>Mr. Krabs</th>\n",
       "      <td>-0.277</td>\n",
       "    </tr>\n",
       "  </tbody>\n",
       "</table>\n",
       "</div>"
      ],
      "text/plain": [
       "           Difference in Appearance %\n",
       "Karen                          -0.847\n",
       "Plankton                       -0.823\n",
       "Mr. Krabs                      -0.277"
      ]
     },
     "metadata": {},
     "output_type": "display_data"
    },
    {
     "data": {
      "text/html": [
       "<div>\n",
       "<style scoped>\n",
       "    .dataframe tbody tr th:only-of-type {\n",
       "        vertical-align: middle;\n",
       "    }\n",
       "\n",
       "    .dataframe tbody tr th {\n",
       "        vertical-align: top;\n",
       "    }\n",
       "\n",
       "    .dataframe thead th {\n",
       "        text-align: right;\n",
       "    }\n",
       "</style>\n",
       "<table border=\"1\" class=\"dataframe\">\n",
       "  <thead>\n",
       "    <tr style=\"text-align: right;\">\n",
       "      <th></th>\n",
       "      <th>Difference in Appearance %</th>\n",
       "    </tr>\n",
       "  </thead>\n",
       "  <tbody>\n",
       "    <tr>\n",
       "      <th>Patrick</th>\n",
       "      <td>0.487</td>\n",
       "    </tr>\n",
       "    <tr>\n",
       "      <th>SpongeBob and Patrick</th>\n",
       "      <td>0.249</td>\n",
       "    </tr>\n",
       "    <tr>\n",
       "      <th>Gary</th>\n",
       "      <td>0.182</td>\n",
       "    </tr>\n",
       "    <tr>\n",
       "      <th>Sandy</th>\n",
       "      <td>0.146</td>\n",
       "    </tr>\n",
       "  </tbody>\n",
       "</table>\n",
       "</div>"
      ],
      "text/plain": [
       "                       Difference in Appearance %\n",
       "Patrick                                     0.487\n",
       "SpongeBob and Patrick                       0.249\n",
       "Gary                                        0.182\n",
       "Sandy                                       0.146"
      ]
     },
     "metadata": {},
     "output_type": "display_data"
    }
   ],
   "source": [
    "\n",
    "apps_diffs = pd.DataFrame(((merged.query('pred == 0').\n",
    "    drop(columns = ['Episode #', 'Title', 'Rating', 'pred'])).mean() - \\\n",
    "(merged.query('pred == 1').\n",
    "    drop(columns = ['Episode #', 'Title', 'Rating', 'pred'])).mean()).round(3),\n",
    "    columns = ['Difference in Appearance %'])\n",
    "\n",
    "\n",
    "display(apps_diffs.sort_values(by = 'Difference in Appearance %',\n",
    "                               ascending = True).head(3))\n",
    "display(apps_diffs.sort_values(by = 'Difference in Appearance %',\n",
    "                               ascending = False).head(4))"
   ]
  },
  {
   "attachments": {},
   "cell_type": "markdown",
   "metadata": {},
   "source": [
    "The clustering algorithm saw the largest negative difference in appearance percentage in Karen and Plankton, and the largest difference in appearance with Patrick and SpongeBob and Patrick together."
   ]
  },
  {
   "attachments": {},
   "cell_type": "markdown",
   "metadata": {},
   "source": [
    "What's interesting here is that the top 3 negative differences in appearance rate are characters primarily associated with Krusty Krab episodes, and the highest difference in appearance rate are chracters primarily associated with episodes that would typically occur in the Home setting.\n",
    "\n",
    "The agglomerative clustering actually picked up on these groupings! Note that this clustering method isn't always 100% reliable for boolean data such as this, so we should proceed with caution from here. "
   ]
  },
  {
   "attachments": {},
   "cell_type": "markdown",
   "metadata": {},
   "source": [
    "This allows us to reassess if the setting of the episode is a key factor in the rating. This time, our groups are actually made for us instead of us having to create our own group parameters for the setting."
   ]
  },
  {
   "cell_type": "code",
   "execution_count": 44,
   "metadata": {},
   "outputs": [
    {
     "name": "stdout",
     "output_type": "stream",
     "text": [
      "The p-value for rating difference between groups is 0.449\n"
     ]
    }
   ],
   "source": [
    "print('The p-value for rating difference between groups is %s'%\n",
    "round(stats.ttest_ind(merged['Rating'][merged['pred'] == 1],\n",
    "                merged['Rating'][merged['pred'] == 0])[1],3)\n",
    ")"
   ]
  },
  {
   "attachments": {},
   "cell_type": "markdown",
   "metadata": {},
   "source": [
    "From this, we have found that the setting truly doesn't make a difference in the rating of the episode. "
   ]
  },
  {
   "cell_type": "markdown",
   "metadata": {},
   "source": []
  }
 ],
 "metadata": {
  "kernelspec": {
   "display_name": ".venv",
   "language": "python",
   "name": "python3"
  },
  "language_info": {
   "codemirror_mode": {
    "name": "ipython",
    "version": 3
   },
   "file_extension": ".py",
   "mimetype": "text/x-python",
   "name": "python",
   "nbconvert_exporter": "python",
   "pygments_lexer": "ipython3",
   "version": "3.9.0 (default, Dec  3 2020, 16:09:02) \n[Clang 12.0.0 (clang-1200.0.32.27)]"
  },
  "orig_nbformat": 4,
  "vscode": {
   "interpreter": {
    "hash": "ba069721430d204618738555252d20e0687ab3e3dc24c24cdc249f762fbf6f31"
   }
  }
 },
 "nbformat": 4,
 "nbformat_minor": 2
}
