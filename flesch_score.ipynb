{
 "cells": [
  {
   "cell_type": "code",
   "execution_count": 8,
   "metadata": {},
   "outputs": [],
   "source": [
    "import pandas as pd\n",
    "import numpy as np\n",
    "import textstat\n",
    "from ast import literal_eval\n",
    "from itertools import chain\n",
    "import seaborn as sns\n",
    "import matplotlib.pyplot as plt\n",
    "from collections import defaultdict\n",
    "import scipy.stats as stats\n",
    "import regex as re\n"
   ]
  },
  {
   "cell_type": "code",
   "execution_count": 32,
   "metadata": {},
   "outputs": [],
   "source": [
    "sponge_df = pd.read_csv('sponge_df_script.csv',index_col= 0, converters={'Script': literal_eval})"
   ]
  },
  {
   "attachments": {},
   "cell_type": "markdown",
   "metadata": {},
   "source": [
    "Let's grab code to get the list of relevant characters from the other files."
   ]
  },
  {
   "cell_type": "code",
   "execution_count": 10,
   "metadata": {},
   "outputs": [],
   "source": [
    "relevant_chars = pd.read_pickle('relevant_chars')"
   ]
  },
  {
   "attachments": {},
   "cell_type": "markdown",
   "metadata": {},
   "source": [
    "This code will feature the Flesch score for ease of readability. You can read more about it [here](https://en.wikipedia.org/wiki/Flesch%E2%80%93Kincaid_readability_tests#Flesch_reading_ease)"
   ]
  },
  {
   "cell_type": "code",
   "execution_count": 11,
   "metadata": {},
   "outputs": [],
   "source": [
    "def flesch_script(episode_name):\n",
    "    script_list = list(\n",
    "        sponge_df.query(\"Title == @episode_name\")['Script'])[0]\n",
    "    script_list = [x for x in script_list if \":\" in x]\n",
    "    episode_script = [x.split(\":\")[1] for x in script_list]\n",
    "    episode_script = ','.join(episode_script)\n",
    "    return textstat.flesch_reading_ease(episode_script)"
   ]
  },
  {
   "cell_type": "code",
   "execution_count": 12,
   "metadata": {},
   "outputs": [],
   "source": [
    "# copy the dataframe\n",
    "sponge_flesch = sponge_df.copy()\n",
    "sponge_flesch['Total Flesch'] = sponge_df['Title'].apply(flesch_script)"
   ]
  },
  {
   "cell_type": "code",
   "execution_count": 13,
   "metadata": {},
   "outputs": [
    {
     "data": {
      "image/png": "[encoded data removed]",
      "text/plain": [
       "<Figure size 432x288 with 1 Axes>"
      ]
     },
     "metadata": {
      "needs_background": "light"
     },
     "output_type": "display_data"
    }
   ],
   "source": [
    "sns.histplot(data = sponge_flesch,\n",
    "             x = 'Total Flesch',\n",
    "             bins = 20)\n",
    "plt.title('Flesch Scores for Spongebob Episodes')\n",
    "plt.show()"
   ]
  },
  {
   "attachments": {},
   "cell_type": "markdown",
   "metadata": {},
   "source": [
    "Very strangely, we find a sort of bimodal distribution here. One could only help but wonder if there is a relationship here."
   ]
  },
  {
   "attachments": {},
   "cell_type": "markdown",
   "metadata": {},
   "source": [
    "From the above plot, I can see an empty space between 92 and 94, just to confirm it, let's query the dataframe for that range. If there is nothing in there, then let's assign the groups based on those ranges."
   ]
  },
  {
   "cell_type": "code",
   "execution_count": 14,
   "metadata": {},
   "outputs": [
    {
     "data": {
      "text/html": [
       "<div>\n",
       "<style scoped>\n",
       "    .dataframe tbody tr th:only-of-type {\n",
       "        vertical-align: middle;\n",
       "    }\n",
       "\n",
       "    .dataframe tbody tr th {\n",
       "        vertical-align: top;\n",
       "    }\n",
       "\n",
       "    .dataframe thead th {\n",
       "        text-align: right;\n",
       "    }\n",
       "</style>\n",
       "<table border=\"1\" class=\"dataframe\">\n",
       "  <thead>\n",
       "    <tr style=\"text-align: right;\">\n",
       "      <th></th>\n",
       "      <th>Episode #</th>\n",
       "      <th>Title</th>\n",
       "      <th>Rating</th>\n",
       "      <th>Script</th>\n",
       "      <th>Total Flesch</th>\n",
       "    </tr>\n",
       "  </thead>\n",
       "  <tbody>\n",
       "  </tbody>\n",
       "</table>\n",
       "</div>"
      ],
      "text/plain": [
       "Empty DataFrame\n",
       "Columns: [Episode #, Title, Rating, Script, Total Flesch]\n",
       "Index: []"
      ]
     },
     "execution_count": 14,
     "metadata": {},
     "output_type": "execute_result"
    }
   ],
   "source": [
    "sponge_flesch[(sponge_flesch['Total Flesch'] > 92) & (sponge_flesch['Total Flesch'] < 94)]"
   ]
  },
  {
   "cell_type": "code",
   "execution_count": 15,
   "metadata": {},
   "outputs": [],
   "source": [
    "conditions = [\n",
    "    sponge_flesch['Total Flesch'] < 92,\n",
    "    sponge_flesch['Total Flesch'] > 94\n",
    "]\n",
    "\n",
    "results = ['Lower','Upper']\n",
    "sponge_flesch['Flesch Division'] = np.select(conditions, results)"
   ]
  },
  {
   "attachments": {},
   "cell_type": "markdown",
   "metadata": {},
   "source": [
    "Let's see the distribution here:"
   ]
  },
  {
   "cell_type": "code",
   "execution_count": 16,
   "metadata": {},
   "outputs": [
    {
     "data": {
      "text/plain": [
       "Upper    252\n",
       "Lower    140\n",
       "Name: Flesch Division, dtype: int64"
      ]
     },
     "execution_count": 16,
     "metadata": {},
     "output_type": "execute_result"
    }
   ],
   "source": [
    "sponge_flesch['Flesch Division'].value_counts()"
   ]
  },
  {
   "attachments": {},
   "cell_type": "markdown",
   "metadata": {},
   "source": [
    "Now let's see if there is a rating difference between the more complex and less complex episodes by finding the p-value."
   ]
  },
  {
   "cell_type": "code",
   "execution_count": 17,
   "metadata": {},
   "outputs": [
    {
     "name": "stdout",
     "output_type": "stream",
     "text": [
      "We have found a p-value of 0.027\n"
     ]
    }
   ],
   "source": [
    "print(\n",
    "    'We have found a p-value of {}'.format(round(\n",
    "    stats.ttest_ind(sponge_flesch['Rating'][sponge_flesch['Flesch Division'] == 'Upper'],\n",
    "                sponge_flesch['Rating'][sponge_flesch['Flesch Division'] == 'Lower'])[1]\n",
    "    ,3)))\n",
    "               "
   ]
  },
  {
   "attachments": {},
   "cell_type": "markdown",
   "metadata": {},
   "source": [
    "Let's get a further look into the distributions!"
   ]
  },
  {
   "cell_type": "code",
   "execution_count": 18,
   "metadata": {},
   "outputs": [
    {
     "data": {
      "text/html": [
       "<div>\n",
       "<style scoped>\n",
       "    .dataframe tbody tr th:only-of-type {\n",
       "        vertical-align: middle;\n",
       "    }\n",
       "\n",
       "    .dataframe tbody tr th {\n",
       "        vertical-align: top;\n",
       "    }\n",
       "\n",
       "    .dataframe thead th {\n",
       "        text-align: right;\n",
       "    }\n",
       "</style>\n",
       "<table border=\"1\" class=\"dataframe\">\n",
       "  <thead>\n",
       "    <tr style=\"text-align: right;\">\n",
       "      <th></th>\n",
       "      <th>count</th>\n",
       "      <th>mean</th>\n",
       "      <th>std</th>\n",
       "      <th>min</th>\n",
       "      <th>25%</th>\n",
       "      <th>50%</th>\n",
       "      <th>75%</th>\n",
       "      <th>max</th>\n",
       "    </tr>\n",
       "    <tr>\n",
       "      <th>Flesch Division</th>\n",
       "      <th></th>\n",
       "      <th></th>\n",
       "      <th></th>\n",
       "      <th></th>\n",
       "      <th></th>\n",
       "      <th></th>\n",
       "      <th></th>\n",
       "      <th></th>\n",
       "    </tr>\n",
       "  </thead>\n",
       "  <tbody>\n",
       "    <tr>\n",
       "      <th>Lower</th>\n",
       "      <td>140.0</td>\n",
       "      <td>7.082857</td>\n",
       "      <td>1.090241</td>\n",
       "      <td>3.5</td>\n",
       "      <td>6.575</td>\n",
       "      <td>7.1</td>\n",
       "      <td>7.5</td>\n",
       "      <td>9.5</td>\n",
       "    </tr>\n",
       "    <tr>\n",
       "      <th>Upper</th>\n",
       "      <td>252.0</td>\n",
       "      <td>7.359921</td>\n",
       "      <td>1.229688</td>\n",
       "      <td>3.2</td>\n",
       "      <td>6.700</td>\n",
       "      <td>7.3</td>\n",
       "      <td>8.5</td>\n",
       "      <td>9.7</td>\n",
       "    </tr>\n",
       "  </tbody>\n",
       "</table>\n",
       "</div>"
      ],
      "text/plain": [
       "                 count      mean       std  min    25%  50%  75%  max\n",
       "Flesch Division                                                      \n",
       "Lower            140.0  7.082857  1.090241  3.5  6.575  7.1  7.5  9.5\n",
       "Upper            252.0  7.359921  1.229688  3.2  6.700  7.3  8.5  9.7"
      ]
     },
     "execution_count": 18,
     "metadata": {},
     "output_type": "execute_result"
    }
   ],
   "source": [
    "sponge_flesch.groupby(by = 'Flesch Division')['Rating'].describe()"
   ]
  },
  {
   "attachments": {},
   "cell_type": "markdown",
   "metadata": {},
   "source": [
    "So it seems that the simpler the compexity level of the episode, the higher the rating is."
   ]
  },
  {
   "cell_type": "code",
   "execution_count": 19,
   "metadata": {},
   "outputs": [
    {
     "data": {
      "text/plain": [
       "<AxesSubplot:xlabel='Episode #', ylabel='Total Flesch'>"
      ]
     },
     "execution_count": 19,
     "metadata": {},
     "output_type": "execute_result"
    },
    {
     "data": {
      "image/png": "[encoded data removed]",
      "text/plain": [
       "<Figure size 432x288 with 1 Axes>"
      ]
     },
     "metadata": {
      "needs_background": "light"
     },
     "output_type": "display_data"
    }
   ],
   "source": [
    "sns.scatterplot(data = sponge_flesch,\n",
    "                x = 'Episode #',\n",
    "                y = 'Total Flesch')"
   ]
  },
  {
   "cell_type": "code",
   "execution_count": 20,
   "metadata": {},
   "outputs": [
    {
     "data": {
      "text/plain": [
       "<AxesSubplot:xlabel='Episode #', ylabel='Rating'>"
      ]
     },
     "execution_count": 20,
     "metadata": {},
     "output_type": "execute_result"
    },
    {
     "data": {
      "image/png": "[encoded data removed]",
      "text/plain": [
       "<Figure size 432x288 with 1 Axes>"
      ]
     },
     "metadata": {
      "needs_background": "light"
     },
     "output_type": "display_data"
    }
   ],
   "source": [
    "sns.scatterplot(data = sponge_flesch,\n",
    "                x = 'Episode #',\n",
    "                y = 'Rating',\n",
    "                hue = 'Flesch Division')"
   ]
  },
  {
   "attachments": {},
   "cell_type": "markdown",
   "metadata": {},
   "source": [
    "Both parts of the division here are represented throughout the series, it isn't segmented as one would hypothesize."
   ]
  },
  {
   "attachments": {},
   "cell_type": "markdown",
   "metadata": {},
   "source": [
    "Let's look at by per character"
   ]
  },
  {
   "cell_type": "code",
   "execution_count": 21,
   "metadata": {},
   "outputs": [],
   "source": [
    "lines = []\n",
    "TEXTO = \"SpongeBob\"\n",
    "def get_char_flesch(episode_name,character):\n",
    "    lines = []\n",
    "    p = re.compile('(%s)\\:'%character)\n",
    "    for i in list(sponge_df.query(\"Title == @episode_name\").Script)[0]:\n",
    "        match = re.search(p, i)\n",
    "        if match:\n",
    "            new_pattern = re.compile('(?<=(%s)\\:).*'%character)\n",
    "            #if re.search(new_pattern,i):\n",
    "            lines.append(re.search(new_pattern,i))\n",
    "    # print(''.join([i.group(0) for i in lines]))\n",
    "    if lines:\n",
    "        return textstat.flesch_reading_ease(\n",
    "            ''.join([i.group(0) for i in lines])\n",
    "        )"
   ]
  },
  {
   "cell_type": "code",
   "execution_count": 22,
   "metadata": {},
   "outputs": [],
   "source": [
    "sponge_flesch_chars = sponge_df.copy()\n",
    "for character in relevant_chars:\n",
    "    sponge_flesch_chars[character] = \\\n",
    "    sponge_df.Title.apply(get_char_flesch, character = character)\n"
   ]
  },
  {
   "cell_type": "code",
   "execution_count": 23,
   "metadata": {},
   "outputs": [
    {
     "data": {
      "text/html": [
       "<div>\n",
       "<style scoped>\n",
       "    .dataframe tbody tr th:only-of-type {\n",
       "        vertical-align: middle;\n",
       "    }\n",
       "\n",
       "    .dataframe tbody tr th {\n",
       "        vertical-align: top;\n",
       "    }\n",
       "\n",
       "    .dataframe thead th {\n",
       "        text-align: right;\n",
       "    }\n",
       "</style>\n",
       "<table border=\"1\" class=\"dataframe\">\n",
       "  <thead>\n",
       "    <tr style=\"text-align: right;\">\n",
       "      <th></th>\n",
       "      <th>Episode #</th>\n",
       "      <th>Title</th>\n",
       "      <th>Rating</th>\n",
       "      <th>Script</th>\n",
       "      <th>SpongeBob</th>\n",
       "      <th>Mr. Krabs</th>\n",
       "      <th>Squidward</th>\n",
       "      <th>Patrick</th>\n",
       "      <th>French Narrator</th>\n",
       "      <th>Gary</th>\n",
       "      <th>...</th>\n",
       "      <th>Narrator</th>\n",
       "      <th>Harold</th>\n",
       "      <th>Plankton</th>\n",
       "      <th>Karen</th>\n",
       "      <th>SpongeBob and Patrick</th>\n",
       "      <th>Mrs. Puff</th>\n",
       "      <th>Fred</th>\n",
       "      <th>Pearl</th>\n",
       "      <th>Both</th>\n",
       "      <th>Nat</th>\n",
       "    </tr>\n",
       "  </thead>\n",
       "  <tbody>\n",
       "    <tr>\n",
       "      <th>0</th>\n",
       "      <td>0</td>\n",
       "      <td>Help Wanted</td>\n",
       "      <td>8.7</td>\n",
       "      <td>[French Narrator: Ah, the sea... so fascinatin...</td>\n",
       "      <td>88.74</td>\n",
       "      <td>95.77</td>\n",
       "      <td>94.76</td>\n",
       "      <td>97.91</td>\n",
       "      <td>72.32</td>\n",
       "      <td>36.62</td>\n",
       "      <td>...</td>\n",
       "      <td>72.32</td>\n",
       "      <td>0.00</td>\n",
       "      <td>0.00</td>\n",
       "      <td>0.00</td>\n",
       "      <td>0.00</td>\n",
       "      <td>0.0</td>\n",
       "      <td>0.0</td>\n",
       "      <td>0.0</td>\n",
       "      <td>0.0</td>\n",
       "      <td>0.0</td>\n",
       "    </tr>\n",
       "    <tr>\n",
       "      <th>2</th>\n",
       "      <td>2</td>\n",
       "      <td>Tea at the Treedome</td>\n",
       "      <td>8.7</td>\n",
       "      <td>[Sandy Cheeks: Take that, you sorry old clam! ...</td>\n",
       "      <td>108.29</td>\n",
       "      <td>0.00</td>\n",
       "      <td>0.00</td>\n",
       "      <td>98.41</td>\n",
       "      <td>0.00</td>\n",
       "      <td>0.00</td>\n",
       "      <td>...</td>\n",
       "      <td>0.00</td>\n",
       "      <td>0.00</td>\n",
       "      <td>0.00</td>\n",
       "      <td>0.00</td>\n",
       "      <td>0.00</td>\n",
       "      <td>0.0</td>\n",
       "      <td>0.0</td>\n",
       "      <td>0.0</td>\n",
       "      <td>0.0</td>\n",
       "      <td>0.0</td>\n",
       "    </tr>\n",
       "    <tr>\n",
       "      <th>4</th>\n",
       "      <td>4</td>\n",
       "      <td>Ripped Pants</td>\n",
       "      <td>8.5</td>\n",
       "      <td>[Narrator: Ah, Goo. Lagoon. A stinky mud puddl...</td>\n",
       "      <td>97.50</td>\n",
       "      <td>0.00</td>\n",
       "      <td>0.00</td>\n",
       "      <td>0.00</td>\n",
       "      <td>0.00</td>\n",
       "      <td>0.00</td>\n",
       "      <td>...</td>\n",
       "      <td>65.05</td>\n",
       "      <td>116.15</td>\n",
       "      <td>0.00</td>\n",
       "      <td>0.00</td>\n",
       "      <td>0.00</td>\n",
       "      <td>0.0</td>\n",
       "      <td>0.0</td>\n",
       "      <td>0.0</td>\n",
       "      <td>0.0</td>\n",
       "      <td>0.0</td>\n",
       "    </tr>\n",
       "    <tr>\n",
       "      <th>6</th>\n",
       "      <td>6</td>\n",
       "      <td>Plankton!</td>\n",
       "      <td>8.4</td>\n",
       "      <td>[Squidward: Come on, SpongeBob!, SpongeBob: Ne...</td>\n",
       "      <td>89.34</td>\n",
       "      <td>98.31</td>\n",
       "      <td>91.88</td>\n",
       "      <td>0.00</td>\n",
       "      <td>0.00</td>\n",
       "      <td>0.00</td>\n",
       "      <td>...</td>\n",
       "      <td>0.00</td>\n",
       "      <td>0.00</td>\n",
       "      <td>90.16</td>\n",
       "      <td>99.23</td>\n",
       "      <td>0.00</td>\n",
       "      <td>0.0</td>\n",
       "      <td>0.0</td>\n",
       "      <td>0.0</td>\n",
       "      <td>0.0</td>\n",
       "      <td>0.0</td>\n",
       "    </tr>\n",
       "    <tr>\n",
       "      <th>7</th>\n",
       "      <td>7</td>\n",
       "      <td>Naughty Nautical Neighbors</td>\n",
       "      <td>8.5</td>\n",
       "      <td>[Squidward: Wow. Squidward, this is the best s...</td>\n",
       "      <td>98.51</td>\n",
       "      <td>0.00</td>\n",
       "      <td>97.91</td>\n",
       "      <td>97.80</td>\n",
       "      <td>0.00</td>\n",
       "      <td>0.00</td>\n",
       "      <td>...</td>\n",
       "      <td>0.00</td>\n",
       "      <td>0.00</td>\n",
       "      <td>0.00</td>\n",
       "      <td>0.00</td>\n",
       "      <td>89.75</td>\n",
       "      <td>0.0</td>\n",
       "      <td>0.0</td>\n",
       "      <td>0.0</td>\n",
       "      <td>0.0</td>\n",
       "      <td>0.0</td>\n",
       "    </tr>\n",
       "  </tbody>\n",
       "</table>\n",
       "<p>5 rows × 23 columns</p>\n",
       "</div>"
      ],
      "text/plain": [
       "   Episode #                       Title  Rating  \\\n",
       "0          0                 Help Wanted     8.7   \n",
       "2          2         Tea at the Treedome     8.7   \n",
       "4          4                Ripped Pants     8.5   \n",
       "6          6                   Plankton!     8.4   \n",
       "7          7  Naughty Nautical Neighbors     8.5   \n",
       "\n",
       "                                              Script  SpongeBob  Mr. Krabs  \\\n",
       "0  [French Narrator: Ah, the sea... so fascinatin...      88.74      95.77   \n",
       "2  [Sandy Cheeks: Take that, you sorry old clam! ...     108.29       0.00   \n",
       "4  [Narrator: Ah, Goo. Lagoon. A stinky mud puddl...      97.50       0.00   \n",
       "6  [Squidward: Come on, SpongeBob!, SpongeBob: Ne...      89.34      98.31   \n",
       "7  [Squidward: Wow. Squidward, this is the best s...      98.51       0.00   \n",
       "\n",
       "   Squidward  Patrick  French Narrator   Gary  ...  Narrator  Harold  \\\n",
       "0      94.76    97.91            72.32  36.62  ...     72.32    0.00   \n",
       "2       0.00    98.41             0.00   0.00  ...      0.00    0.00   \n",
       "4       0.00     0.00             0.00   0.00  ...     65.05  116.15   \n",
       "6      91.88     0.00             0.00   0.00  ...      0.00    0.00   \n",
       "7      97.91    97.80             0.00   0.00  ...      0.00    0.00   \n",
       "\n",
       "   Plankton  Karen  SpongeBob and Patrick  Mrs. Puff  Fred  Pearl  Both  Nat  \n",
       "0      0.00   0.00                   0.00        0.0   0.0    0.0   0.0  0.0  \n",
       "2      0.00   0.00                   0.00        0.0   0.0    0.0   0.0  0.0  \n",
       "4      0.00   0.00                   0.00        0.0   0.0    0.0   0.0  0.0  \n",
       "6     90.16  99.23                   0.00        0.0   0.0    0.0   0.0  0.0  \n",
       "7      0.00   0.00                  89.75        0.0   0.0    0.0   0.0  0.0  \n",
       "\n",
       "[5 rows x 23 columns]"
      ]
     },
     "execution_count": 23,
     "metadata": {},
     "output_type": "execute_result"
    }
   ],
   "source": [
    "sponge_flesch_chars.fillna(0, inplace = True)\n",
    "sponge_flesch_chars.head()"
   ]
  },
  {
   "attachments": {},
   "cell_type": "markdown",
   "metadata": {},
   "source": [
    "Now let's see if there's some sort of correlation"
   ]
  },
  {
   "cell_type": "code",
   "execution_count": 24,
   "metadata": {},
   "outputs": [],
   "source": [
    "\n",
    "char_pvalues = []\n",
    "char_upper = []\n",
    "char_lower = []\n",
    "\n",
    "for character in relevant_chars:\n",
    "\n",
    "    char_df = sponge_flesch_chars[['Rating', character]].copy()\n",
    "\n",
    "    conditions = [\n",
    "    char_df[character] < 92,\n",
    "    char_df[character] > 94\n",
    "]\n",
    "    results = ['Lower','Upper']\n",
    "\n",
    "    \n",
    "    char_df['Division'] = np.select(conditions,results)\n",
    "    char_df = char_df[char_df[character] > 0]\n",
    "\n",
    "    char_upper.append(char_df[char_df['Division'] == 'Upper']['Rating'].mean())\n",
    "    char_lower.append(char_df[char_df['Division'] == 'Lower']['Rating'].mean())\n",
    "\n",
    "\n",
    "    char_pvalues.append(stats.ttest_ind(char_df['Rating'][char_df['Division'] == 'Upper'],\n",
    "                char_df['Rating'][char_df['Division'] == 'Lower'])[1]\n",
    "                )\n",
    "    #print(character, stats.ttest_ind(char_df['Rating'][char_df['Division'] == 'Upper'],\n",
    "                #char_df['Rating'][char_df['Division'] == 'Lower'])[1])\n",
    "\n",
    "    \n",
    "    "
   ]
  },
  {
   "cell_type": "code",
   "execution_count": 25,
   "metadata": {},
   "outputs": [
    {
     "data": {
      "text/html": [
       "<div>\n",
       "<style scoped>\n",
       "    .dataframe tbody tr th:only-of-type {\n",
       "        vertical-align: middle;\n",
       "    }\n",
       "\n",
       "    .dataframe tbody tr th {\n",
       "        vertical-align: top;\n",
       "    }\n",
       "\n",
       "    .dataframe thead th {\n",
       "        text-align: right;\n",
       "    }\n",
       "</style>\n",
       "<table border=\"1\" class=\"dataframe\">\n",
       "  <thead>\n",
       "    <tr style=\"text-align: right;\">\n",
       "      <th></th>\n",
       "      <th>Character</th>\n",
       "      <th>Upper Flesch Group Mean Rating</th>\n",
       "      <th>Lower Flesch Group Mean Rating</th>\n",
       "      <th>p-values</th>\n",
       "    </tr>\n",
       "  </thead>\n",
       "  <tbody>\n",
       "    <tr>\n",
       "      <th>5</th>\n",
       "      <td>Gary</td>\n",
       "      <td>9.450</td>\n",
       "      <td>7.212</td>\n",
       "      <td>0.008</td>\n",
       "    </tr>\n",
       "    <tr>\n",
       "      <th>2</th>\n",
       "      <td>Squidward</td>\n",
       "      <td>7.394</td>\n",
       "      <td>7.077</td>\n",
       "      <td>0.018</td>\n",
       "    </tr>\n",
       "    <tr>\n",
       "      <th>13</th>\n",
       "      <td>SpongeBob and Patrick</td>\n",
       "      <td>7.260</td>\n",
       "      <td>7.854</td>\n",
       "      <td>0.021</td>\n",
       "    </tr>\n",
       "    <tr>\n",
       "      <th>6</th>\n",
       "      <td>Sandy</td>\n",
       "      <td>7.475</td>\n",
       "      <td>6.976</td>\n",
       "      <td>0.022</td>\n",
       "    </tr>\n",
       "    <tr>\n",
       "      <th>1</th>\n",
       "      <td>Mr. Krabs</td>\n",
       "      <td>7.350</td>\n",
       "      <td>7.023</td>\n",
       "      <td>0.023</td>\n",
       "    </tr>\n",
       "    <tr>\n",
       "      <th>9</th>\n",
       "      <td>Narrator</td>\n",
       "      <td>8.175</td>\n",
       "      <td>7.600</td>\n",
       "      <td>0.038</td>\n",
       "    </tr>\n",
       "    <tr>\n",
       "      <th>15</th>\n",
       "      <td>Fred</td>\n",
       "      <td>7.622</td>\n",
       "      <td>6.820</td>\n",
       "      <td>0.043</td>\n",
       "    </tr>\n",
       "    <tr>\n",
       "      <th>8</th>\n",
       "      <td>Larry</td>\n",
       "      <td>7.747</td>\n",
       "      <td>7.069</td>\n",
       "      <td>0.045</td>\n",
       "    </tr>\n",
       "    <tr>\n",
       "      <th>0</th>\n",
       "      <td>SpongeBob</td>\n",
       "      <td>7.310</td>\n",
       "      <td>7.130</td>\n",
       "      <td>0.183</td>\n",
       "    </tr>\n",
       "    <tr>\n",
       "      <th>10</th>\n",
       "      <td>Harold</td>\n",
       "      <td>7.203</td>\n",
       "      <td>6.848</td>\n",
       "      <td>0.268</td>\n",
       "    </tr>\n",
       "    <tr>\n",
       "      <th>7</th>\n",
       "      <td>All</td>\n",
       "      <td>7.450</td>\n",
       "      <td>7.908</td>\n",
       "      <td>0.269</td>\n",
       "    </tr>\n",
       "    <tr>\n",
       "      <th>18</th>\n",
       "      <td>Nat</td>\n",
       "      <td>7.019</td>\n",
       "      <td>6.614</td>\n",
       "      <td>0.270</td>\n",
       "    </tr>\n",
       "    <tr>\n",
       "      <th>11</th>\n",
       "      <td>Plankton</td>\n",
       "      <td>7.129</td>\n",
       "      <td>7.218</td>\n",
       "      <td>0.644</td>\n",
       "    </tr>\n",
       "    <tr>\n",
       "      <th>14</th>\n",
       "      <td>Mrs. Puff</td>\n",
       "      <td>7.075</td>\n",
       "      <td>7.226</td>\n",
       "      <td>0.680</td>\n",
       "    </tr>\n",
       "    <tr>\n",
       "      <th>3</th>\n",
       "      <td>Patrick</td>\n",
       "      <td>7.253</td>\n",
       "      <td>7.306</td>\n",
       "      <td>0.723</td>\n",
       "    </tr>\n",
       "    <tr>\n",
       "      <th>4</th>\n",
       "      <td>French Narrator</td>\n",
       "      <td>7.700</td>\n",
       "      <td>7.576</td>\n",
       "      <td>0.741</td>\n",
       "    </tr>\n",
       "    <tr>\n",
       "      <th>16</th>\n",
       "      <td>Pearl</td>\n",
       "      <td>7.058</td>\n",
       "      <td>7.171</td>\n",
       "      <td>0.786</td>\n",
       "    </tr>\n",
       "    <tr>\n",
       "      <th>17</th>\n",
       "      <td>Both</td>\n",
       "      <td>7.165</td>\n",
       "      <td>7.064</td>\n",
       "      <td>0.809</td>\n",
       "    </tr>\n",
       "    <tr>\n",
       "      <th>12</th>\n",
       "      <td>Karen</td>\n",
       "      <td>7.145</td>\n",
       "      <td>7.141</td>\n",
       "      <td>0.985</td>\n",
       "    </tr>\n",
       "  </tbody>\n",
       "</table>\n",
       "</div>"
      ],
      "text/plain": [
       "                Character  Upper Flesch Group Mean Rating  \\\n",
       "5                    Gary                           9.450   \n",
       "2               Squidward                           7.394   \n",
       "13  SpongeBob and Patrick                           7.260   \n",
       "6                   Sandy                           7.475   \n",
       "1               Mr. Krabs                           7.350   \n",
       "9                Narrator                           8.175   \n",
       "15                   Fred                           7.622   \n",
       "8                   Larry                           7.747   \n",
       "0               SpongeBob                           7.310   \n",
       "10                 Harold                           7.203   \n",
       "7                     All                           7.450   \n",
       "18                    Nat                           7.019   \n",
       "11               Plankton                           7.129   \n",
       "14              Mrs. Puff                           7.075   \n",
       "3                 Patrick                           7.253   \n",
       "4         French Narrator                           7.700   \n",
       "16                  Pearl                           7.058   \n",
       "17                   Both                           7.165   \n",
       "12                  Karen                           7.145   \n",
       "\n",
       "    Lower Flesch Group Mean Rating  p-values  \n",
       "5                            7.212     0.008  \n",
       "2                            7.077     0.018  \n",
       "13                           7.854     0.021  \n",
       "6                            6.976     0.022  \n",
       "1                            7.023     0.023  \n",
       "9                            7.600     0.038  \n",
       "15                           6.820     0.043  \n",
       "8                            7.069     0.045  \n",
       "0                            7.130     0.183  \n",
       "10                           6.848     0.268  \n",
       "7                            7.908     0.269  \n",
       "18                           6.614     0.270  \n",
       "11                           7.218     0.644  \n",
       "14                           7.226     0.680  \n",
       "3                            7.306     0.723  \n",
       "4                            7.576     0.741  \n",
       "16                           7.171     0.786  \n",
       "17                           7.064     0.809  \n",
       "12                           7.141     0.985  "
      ]
     },
     "execution_count": 25,
     "metadata": {},
     "output_type": "execute_result"
    }
   ],
   "source": [
    "chars_flesch_df_grouped = pd.DataFrame({'Character': relevant_chars,\n",
    "              'Upper Flesch Group Mean Rating': char_upper,\n",
    "              'Lower Flesch Group Mean Rating': char_lower,\n",
    "              'p-values': char_pvalues}).round(3).sort_values(by = 'p-values')\n",
    "\n",
    "chars_flesch_df_grouped\n"
   ]
  },
  {
   "attachments": {},
   "cell_type": "markdown",
   "metadata": {},
   "source": [
    "Admittedly, the Flesch score has some flaws. A lot of it is based on syllable count and word count, so longer words will generate a higher Flesch score. When Gary says `Meow—meow—meow—meow—meow—meow—meow. Meow—meow—meow—meow—meow—meow`, that generates a very low Flecsh score of -429.7. I would exclude Gary from this primarily because his vocabulary is limited to different variations of Meowing for all but a few episodes."
   ]
  },
  {
   "cell_type": "markdown",
   "metadata": {},
   "source": []
  },
  {
   "cell_type": "code",
   "execution_count": 27,
   "metadata": {},
   "outputs": [
    {
     "data": {
      "text/html": [
       "<div>\n",
       "<style scoped>\n",
       "    .dataframe tbody tr th:only-of-type {\n",
       "        vertical-align: middle;\n",
       "    }\n",
       "\n",
       "    .dataframe tbody tr th {\n",
       "        vertical-align: top;\n",
       "    }\n",
       "\n",
       "    .dataframe thead th {\n",
       "        text-align: right;\n",
       "    }\n",
       "</style>\n",
       "<table border=\"1\" class=\"dataframe\">\n",
       "  <thead>\n",
       "    <tr style=\"text-align: right;\">\n",
       "      <th></th>\n",
       "      <th>Episode #</th>\n",
       "      <th>Title</th>\n",
       "      <th>Rating</th>\n",
       "      <th>Script</th>\n",
       "      <th>Total Flesch</th>\n",
       "      <th>Flesch Division</th>\n",
       "    </tr>\n",
       "  </thead>\n",
       "  <tbody>\n",
       "    <tr>\n",
       "      <th>0</th>\n",
       "      <td>0</td>\n",
       "      <td>Help Wanted</td>\n",
       "      <td>8.7</td>\n",
       "      <td>[French Narrator: Ah, the sea... so fascinatin...</td>\n",
       "      <td>87.72</td>\n",
       "      <td>Lower</td>\n",
       "    </tr>\n",
       "    <tr>\n",
       "      <th>2</th>\n",
       "      <td>2</td>\n",
       "      <td>Tea at the Treedome</td>\n",
       "      <td>8.7</td>\n",
       "      <td>[Sandy Cheeks: Take that, you sorry old clam! ...</td>\n",
       "      <td>107.69</td>\n",
       "      <td>Upper</td>\n",
       "    </tr>\n",
       "    <tr>\n",
       "      <th>4</th>\n",
       "      <td>4</td>\n",
       "      <td>Ripped Pants</td>\n",
       "      <td>8.5</td>\n",
       "      <td>[Narrator: Ah, Goo. Lagoon. A stinky mud puddl...</td>\n",
       "      <td>97.80</td>\n",
       "      <td>Upper</td>\n",
       "    </tr>\n",
       "    <tr>\n",
       "      <th>6</th>\n",
       "      <td>6</td>\n",
       "      <td>Plankton!</td>\n",
       "      <td>8.4</td>\n",
       "      <td>[Squidward: Come on, SpongeBob!, SpongeBob: Ne...</td>\n",
       "      <td>90.05</td>\n",
       "      <td>Lower</td>\n",
       "    </tr>\n",
       "    <tr>\n",
       "      <th>7</th>\n",
       "      <td>7</td>\n",
       "      <td>Naughty Nautical Neighbors</td>\n",
       "      <td>8.5</td>\n",
       "      <td>[Squidward: Wow. Squidward, this is the best s...</td>\n",
       "      <td>97.91</td>\n",
       "      <td>Upper</td>\n",
       "    </tr>\n",
       "    <tr>\n",
       "      <th>...</th>\n",
       "      <td>...</td>\n",
       "      <td>...</td>\n",
       "      <td>...</td>\n",
       "      <td>...</td>\n",
       "      <td>...</td>\n",
       "      <td>...</td>\n",
       "    </tr>\n",
       "    <tr>\n",
       "      <th>494</th>\n",
       "      <td>494</td>\n",
       "      <td>The Hankering</td>\n",
       "      <td>6.7</td>\n",
       "      <td>[Tina Fran: Oh, these are delicious., Jennifer...</td>\n",
       "      <td>98.01</td>\n",
       "      <td>Upper</td>\n",
       "    </tr>\n",
       "    <tr>\n",
       "      <th>497</th>\n",
       "      <td>497</td>\n",
       "      <td>Who R Zoo?</td>\n",
       "      <td>7.1</td>\n",
       "      <td>[SpongeBob: Hey, Timmy! I've found your ball. ...</td>\n",
       "      <td>90.26</td>\n",
       "      <td>Lower</td>\n",
       "    </tr>\n",
       "    <tr>\n",
       "      <th>500</th>\n",
       "      <td>500</td>\n",
       "      <td>Biddy Sitting</td>\n",
       "      <td>7.1</td>\n",
       "      <td>[Squidward:  \"SquarePants and Star Babysitting...</td>\n",
       "      <td>98.21</td>\n",
       "      <td>Upper</td>\n",
       "    </tr>\n",
       "    <tr>\n",
       "      <th>501</th>\n",
       "      <td>501</td>\n",
       "      <td>Lighthouse Louie</td>\n",
       "      <td>6.8</td>\n",
       "      <td>[Mrs. Puff:  Now, SpongeBob, what is the prope...</td>\n",
       "      <td>89.34</td>\n",
       "      <td>Lower</td>\n",
       "    </tr>\n",
       "    <tr>\n",
       "      <th>504</th>\n",
       "      <td>504</td>\n",
       "      <td>One Trick Sponge</td>\n",
       "      <td>6.9</td>\n",
       "      <td>[SpongeBob: Ta-daaa! , Gary:  Meow., SpongeBob...</td>\n",
       "      <td>97.70</td>\n",
       "      <td>Upper</td>\n",
       "    </tr>\n",
       "  </tbody>\n",
       "</table>\n",
       "<p>392 rows × 6 columns</p>\n",
       "</div>"
      ],
      "text/plain": [
       "     Episode #                       Title  Rating  \\\n",
       "0            0                 Help Wanted     8.7   \n",
       "2            2         Tea at the Treedome     8.7   \n",
       "4            4                Ripped Pants     8.5   \n",
       "6            6                   Plankton!     8.4   \n",
       "7            7  Naughty Nautical Neighbors     8.5   \n",
       "..         ...                         ...     ...   \n",
       "494        494               The Hankering     6.7   \n",
       "497        497                  Who R Zoo?     7.1   \n",
       "500        500               Biddy Sitting     7.1   \n",
       "501        501            Lighthouse Louie     6.8   \n",
       "504        504            One Trick Sponge     6.9   \n",
       "\n",
       "                                                Script  Total Flesch  \\\n",
       "0    [French Narrator: Ah, the sea... so fascinatin...         87.72   \n",
       "2    [Sandy Cheeks: Take that, you sorry old clam! ...        107.69   \n",
       "4    [Narrator: Ah, Goo. Lagoon. A stinky mud puddl...         97.80   \n",
       "6    [Squidward: Come on, SpongeBob!, SpongeBob: Ne...         90.05   \n",
       "7    [Squidward: Wow. Squidward, this is the best s...         97.91   \n",
       "..                                                 ...           ...   \n",
       "494  [Tina Fran: Oh, these are delicious., Jennifer...         98.01   \n",
       "497  [SpongeBob: Hey, Timmy! I've found your ball. ...         90.26   \n",
       "500  [Squidward:  \"SquarePants and Star Babysitting...         98.21   \n",
       "501  [Mrs. Puff:  Now, SpongeBob, what is the prope...         89.34   \n",
       "504  [SpongeBob: Ta-daaa! , Gary:  Meow., SpongeBob...         97.70   \n",
       "\n",
       "    Flesch Division  \n",
       "0             Lower  \n",
       "2             Upper  \n",
       "4             Upper  \n",
       "6             Lower  \n",
       "7             Upper  \n",
       "..              ...  \n",
       "494           Upper  \n",
       "497           Lower  \n",
       "500           Upper  \n",
       "501           Lower  \n",
       "504           Upper  \n",
       "\n",
       "[392 rows x 6 columns]"
      ]
     },
     "execution_count": 27,
     "metadata": {},
     "output_type": "execute_result"
    }
   ],
   "source": [
    "sponge_flesch"
   ]
  },
  {
   "cell_type": "code",
   "execution_count": 31,
   "metadata": {},
   "outputs": [],
   "source": [
    "sponge_flesch_chars.merge(sponge_flesch[['Title', 'Total Flesch']], on = 'Title') \\\n",
    "    .to_csv('full_flesch.csv')"
   ]
  }
 ],
 "metadata": {
  "kernelspec": {
   "display_name": "Python 3",
   "language": "python",
   "name": "python3"
  },
  "language_info": {
   "codemirror_mode": {
    "name": "ipython",
    "version": 3
   },
   "file_extension": ".py",
   "mimetype": "text/x-python",
   "name": "python",
   "nbconvert_exporter": "python",
   "pygments_lexer": "ipython3",
   "version": "3.9.0"
  },
  "orig_nbformat": 4,
  "vscode": {
   "interpreter": {
    "hash": "aee8b7b246df8f9039afb4144a1f6fd8d2ca17a180786b69acc140d282b71a49"
   }
  }
 },
 "nbformat": 4,
 "nbformat_minor": 2
}
